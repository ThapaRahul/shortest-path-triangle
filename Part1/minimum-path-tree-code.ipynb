{
 "cells": [
  {
   "cell_type": "code",
   "execution_count": 1,
   "metadata": {},
   "outputs": [],
   "source": [
    "n = 5  # select the size of the base"
   ]
  },
  {
   "cell_type": "code",
   "execution_count": 2,
   "metadata": {},
   "outputs": [],
   "source": [
    "def minimim_path_triangle(n):\n",
    "\n",
    "  def make_triangle(n):\n",
    "    triangle = []\n",
    "\n",
    "    import random\n",
    "\n",
    "    for i in range(n):\n",
    "      temp_list = []\n",
    "      for j in range(0, i+1):\n",
    "        temp_list.append((random.randint(1, n**2), j))\n",
    "      triangle.append(temp_list)\n",
    "\n",
    "    return triangle\n",
    "\n",
    "  def find_all_paths(triangle):\n",
    "    sum_triangle = [[triangle[0][0]]]\n",
    "    n = len(triangle)\n",
    "    for i in range(1, n):\n",
    "      temp_triangle = []\n",
    "      for item in sum_triangle:\n",
    "        copy_item = item.copy()\n",
    "        n = len(copy_item)\n",
    "        idx = copy_item[n-1][1]\n",
    "        copy_item.append(triangle[i][idx])\n",
    "        item.append(triangle[i][idx+1])\n",
    "        temp_triangle.append(copy_item)\n",
    "        temp_triangle.append(item)\n",
    "      \n",
    "      sum_triangle = temp_triangle\n",
    "    \n",
    "    return sum_triangle\n",
    "\n",
    "  def find_sum(x):\n",
    "    summ = 0\n",
    "    for i in range(len(x)):\n",
    "      summ += x[i][0]\n",
    "    return summ\n",
    "\n",
    "\n",
    "  def find_min_path(sum_triangle):\n",
    "    min_sum = find_sum(sum_triangle[0])\n",
    "    min_idx = 0\n",
    "    for i in range(0, len(sum_triangle)):\n",
    "      temp_sum = find_sum(sum_triangle[i])\n",
    "      if (temp_sum < min_sum):\n",
    "        min_sum = temp_sum\n",
    "        min_idx = i\n",
    "    \n",
    "    return [x[0] for x in sum_triangle[min_idx]]\n",
    "\n",
    "  triangle = make_triangle(n)\n",
    "  sum_triangle = find_all_paths(triangle)\n",
    "  return find_min_path(sum_triangle), triangle, sum_triangle\n",
    "\n",
    "min_path, triangle, sum_triangle = minimim_path_triangle(n)"
   ]
  },
  {
   "cell_type": "code",
   "execution_count": null,
   "metadata": {},
   "outputs": [],
   "source": [
    "threshold = 60  # what is the largest time for one operation you want to run\n",
    "\n",
    "def plot_efficiency(threshold):\n",
    "  import time\n",
    "\n",
    "  n = []\n",
    "  t = []\n",
    "\n",
    "  n_temp = 2\n",
    "  while(True):\n",
    "    start_time = time.time()\n",
    "    min_path, _, _ = minimim_path_triangle(n_temp)\n",
    "    t_temp = time.time() - start_time\n",
    "\n",
    "    if t_temp>threshold:\n",
    "      break\n",
    "\n",
    "    n.append(n_temp)\n",
    "    t.append(t_temp)\n",
    "\n",
    "    n_temp *= 2\n",
    "\n",
    "  return n, t\n",
    "\n",
    "n, t = plot_efficiency(threshold)"
   ]
  },
  {
   "cell_type": "code",
   "execution_count": null,
   "metadata": {},
   "outputs": [],
   "source": [
    "import matplotlib.pyplot as plt\n",
    "plt.plot(n, t, 'o')\n",
    "plt.title(\"Brute Force Algorithm Running Time\")\n",
    "plt.xlabel(\"size of the base (n)\")\n",
    "plt.ylabel(\"run-time (t)\")\n",
    "plt.savefig(\"bruteforce.png\")"
   ]
  },
  {
   "cell_type": "code",
   "execution_count": null,
   "metadata": {},
   "outputs": [],
   "source": []
  }
 ],
 "metadata": {
  "kernelspec": {
   "display_name": "Python 3",
   "language": "python",
   "name": "python3"
  },
  "language_info": {
   "codemirror_mode": {
    "name": "ipython",
    "version": 3
   },
   "file_extension": ".py",
   "mimetype": "text/x-python",
   "name": "python",
   "nbconvert_exporter": "python",
   "pygments_lexer": "ipython3",
   "version": "3.7.3"
  }
 },
 "nbformat": 4,
 "nbformat_minor": 2
}
